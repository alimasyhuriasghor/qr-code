{
 "cells": [
  {
   "cell_type": "markdown",
   "metadata": {},
   "source": [
    "# Making a simple QR code with Python programming language\n",
    "In this Python QR code project, i am mainly only to design the QR codes (e.g, how to change the size of the QR code, how to change the colors of the QR codes, etc).\n",
    "\n",
    "## Reference:\n",
    "I borrowed the reference from [realpython.com](https://realpython.com/python-generate-qr-code/).\n",
    "\n",
    "## Table of contents:\n",
    "- Using Python to generate a basic QR code\n",
    "- Changing the size of the QR code\n",
    "- Formatting the border of the QR code\n",
    "- Changing the colors of the QR code\n",
    "- Rotating the QR code\n",
    "- Creating Animated QR code"
   ]
  },
  {
   "cell_type": "code",
   "execution_count": 1,
   "metadata": {},
   "outputs": [],
   "source": [
    "# Import the segno Module\n",
    "import segno"
   ]
  },
  {
   "cell_type": "markdown",
   "metadata": {},
   "source": [
    "# Using Python to generate a basic QR code\n",
    "To create a black-and-white QR code object, we'll need to use the `make_qr()` function. This will create a full-size QR code.\n",
    "\n",
    "> 🚧**Note**🚧: We can also use the `make()` function to create a QR code object, but this will create a small QR code. In this tutorial, we mainly used the `make_qr()` function to generate full size QR code."
   ]
  },
  {
   "cell_type": "code",
   "execution_count": 2,
   "metadata": {},
   "outputs": [],
   "source": [
    "qrcode1 = segno.make_qr(\"Ali sangat ganteng!\")\n",
    "qrcode1.save(\"qr-picture-folder/1-basic_qrcode.png\")"
   ]
  },
  {
   "cell_type": "markdown",
   "metadata": {},
   "source": [
    "# Changing the size of the QR code\n",
    "To change the size of the QR code, we'll need to specify the `scale=` parameter. The `scale=` is a scaling factor that changes the width and height of the QR code image. By default, scale parameter will set the default value of 1 (1x1, one pixel wide, and one pixel high)."
   ]
  },
  {
   "cell_type": "code",
   "execution_count": 3,
   "metadata": {},
   "outputs": [],
   "source": [
    "# Create a black-and-white QR code object image with 5x5 pixels in size\n",
    "qrcode2 = segno.make_qr(\"QR code with 5x5 pixels in size\")\n",
    "qrcode2.save(\"qr-picture-folder/2-scaled_qrcode.png\",scale=5)"
   ]
  },
  {
   "cell_type": "markdown",
   "metadata": {},
   "source": [
    "# Formatting the Border of the QR code\n",
    "To increase the scanability of the QR code and make sure that devices such as smartphones can clearly acces the information, segno puts some blank space around the QR code (the white space). This blank space referred to as the **quiet zone**. By defalut, the size of the quiet zone is 4 modules on each side, but we can change the default size with integer value using `border=` parameter on the `.save()` function's keyword argument."
   ]
  },
  {
   "cell_type": "code",
   "execution_count": 4,
   "metadata": {},
   "outputs": [],
   "source": [
    "# Completley remove the quiet zone (blank space)\n",
    "qrcode3 = segno.make_qr(\"Hello!\")\n",
    "qrcode3.save(\"qr-picture-folder/3-borderless_qrcode.png\",border=0,scale=5)"
   ]
  },
  {
   "cell_type": "code",
   "execution_count": 5,
   "metadata": {},
   "outputs": [],
   "source": [
    "# Increase the size of the quiet zone (blank space) up to 10 white modules\n",
    "qrcode4 = segno.make_qr(\"Hello!\")\n",
    "qrcode4.save(\"qr-picture-folder/4-white_border_qrcode.png\",border=10,scale=5)"
   ]
  },
  {
   "cell_type": "markdown",
   "metadata": {},
   "source": [
    "# Changing the colors of the QR code"
   ]
  },
  {
   "cell_type": "markdown",
   "metadata": {},
   "source": [
    "## Change the white background (white module) color\n",
    "To change the white background color we'll need to specify additonal parameter on the `.save()` method, which is the `light=` parameter (keyword argument). We could use either the RGB format, the name of the color, or hexadecimal value. In this tutorial, i'll just use the name of the color for simplicity purpose."
   ]
  },
  {
   "cell_type": "code",
   "execution_count": 10,
   "metadata": {},
   "outputs": [],
   "source": [
    "qrcode5 = segno.make_qr(\"Custom QR code white background color\")\n",
    "qrcode5.save(\"qr-picture-folder/5-lightblue_qrcode.png\",scale=10,light=\"lightblue\")"
   ]
  },
  {
   "cell_type": "markdown",
   "metadata": {},
   "source": [
    "## Change the dark background (black module) color\n",
    "To change the dark background (black module) color, we'll need to specify optional parameter, which is the `dark=` parameter (keyword argument). Same like `light=` parameter, the `dark=` parameter we could either specify it by RGB format, the name of the color, or hexadecimal value."
   ]
  },
  {
   "cell_type": "code",
   "execution_count": 11,
   "metadata": {},
   "outputs": [],
   "source": [
    "qrcode6 = segno.make_qr(\"Custom QR code dark background color\")\n",
    "qrcode6.save(\"qr-picture-folder/6-darkblue_qrcode.png\",scale=10,dark=\"darkblue\")"
   ]
  },
  {
   "cell_type": "markdown",
   "metadata": {},
   "source": [
    "## Change the color of the quiet zone (blank space) of the QR code"
   ]
  },
  {
   "cell_type": "code",
   "execution_count": 14,
   "metadata": {},
   "outputs": [],
   "source": [
    "qrcode7 = segno.make_qr(\"Custom quiet zone color\")\n",
    "qrcode7.save(\"qr-picture-folder/7-lightgreen_qrcode.png\",scale=10,quiet_zone=\"lightgreen\",light=\"red\",dark=\"blue\")"
   ]
  },
  {
   "cell_type": "markdown",
   "metadata": {},
   "source": [
    "## Change the color of the data modules (the black and white blocks where data actually stored)\n",
    "To change the data modules color, we'll need to specify additional parameter named `data_dark=`, and `data_light=`. These parameters (keyword arguments) are a way to cutomize the color of where our data is actually stored."
   ]
  },
  {
   "cell_type": "code",
   "execution_count": 15,
   "metadata": {},
   "outputs": [],
   "source": [
    "# Change the color of the data_dark color\n",
    "qrcode8 = segno.make_qr(\"Custom data dark color\")\n",
    "qrcode8.save(\"qr-picture-folder/8-green_datadark.png\",scale=10,data_dark=\"green\")"
   ]
  },
  {
   "cell_type": "code",
   "execution_count": 16,
   "metadata": {},
   "outputs": [],
   "source": [
    "# Change the color of the data_light color\n",
    "qrcode9 = segno.make_qr(\"Custom data light color\")\n",
    "qrcode9.save(\"qr-picture-folder/9-red_datalight.png\",scale=10,data_light=\"red\")"
   ]
  },
  {
   "cell_type": "code",
   "execution_count": null,
   "metadata": {},
   "outputs": [],
   "source": []
  }
 ],
 "metadata": {
  "kernelspec": {
   "display_name": "Python 3",
   "language": "python",
   "name": "python3"
  },
  "language_info": {
   "codemirror_mode": {
    "name": "ipython",
    "version": 3
   },
   "file_extension": ".py",
   "mimetype": "text/x-python",
   "name": "python",
   "nbconvert_exporter": "python",
   "pygments_lexer": "ipython3",
   "version": "3.11.7"
  }
 },
 "nbformat": 4,
 "nbformat_minor": 2
}
