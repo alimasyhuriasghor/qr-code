{
 "cells": [
  {
   "cell_type": "markdown",
   "metadata": {},
   "source": [
    "# Making a simple QR code with Python programming language\n",
    "In this Python QR code project, i am mainly only to design the QR codes (e.g, how to change the size of the QR code, how to change the colors of the QR codes, etc).\n",
    "\n",
    "## Table of contents:\n",
    "- Using Python to generate a basic QR code\n",
    "- Changing the size of the QR code\n",
    "- Formatting the border of the QR code\n",
    "- Rotating the QR code\n",
    "- Creating Animated QR code"
   ]
  },
  {
   "cell_type": "code",
   "execution_count": 2,
   "metadata": {},
   "outputs": [],
   "source": [
    "# Import the segno Module\n",
    "import segno"
   ]
  },
  {
   "cell_type": "markdown",
   "metadata": {},
   "source": [
    "# Using Python to generate a basic QR code\n",
    "To create a black-and-white QR code object, we'll need to use the `make_qr()` function. This will create a full-size QR code.\n",
    "\n",
    "> 🚧**Note**🚧: We can also use the `make()` function to create a QR code object, but this will create a small QR code. In this tutorial, we mainly used the `make_qr()` function to generate full size QR code."
   ]
  },
  {
   "cell_type": "code",
   "execution_count": 7,
   "metadata": {},
   "outputs": [],
   "source": [
    "qrcode1 = segno.make_qr(\"Ali sangat ganteng!\")\n",
    "qrcode1.save(\"qr-picture-folder/1-basic_qrcode.png\")"
   ]
  },
  {
   "cell_type": "markdown",
   "metadata": {},
   "source": [
    "# Changing the size of the QR code\n",
    "To change the size of the QR code, we'll need to specify the `scale=` parameter. The `scale=` is a scaling factor that changes the width and height of the QR code image. By default, scale parameter will set the default value of 1 (1x1, one pixel wide, and one pixel high)."
   ]
  },
  {
   "cell_type": "code",
   "execution_count": 9,
   "metadata": {},
   "outputs": [],
   "source": [
    "# Create a black-and-white QR code object image with 5x5 pixels in size\n",
    "qrcode2 = segno.make_qr(\"QR code with 5x5 pixels in size\")\n",
    "qrcode2.save(\"qr-picture-folder/2-scaled_qrcode.png\",scale=5)"
   ]
  },
  {
   "cell_type": "markdown",
   "metadata": {},
   "source": [
    "# Formatting the Border of the QR code"
   ]
  },
  {
   "cell_type": "code",
   "execution_count": null,
   "metadata": {},
   "outputs": [],
   "source": []
  }
 ],
 "metadata": {
  "kernelspec": {
   "display_name": "Python 3",
   "language": "python",
   "name": "python3"
  },
  "language_info": {
   "codemirror_mode": {
    "name": "ipython",
    "version": 3
   },
   "file_extension": ".py",
   "mimetype": "text/x-python",
   "name": "python",
   "nbconvert_exporter": "python",
   "pygments_lexer": "ipython3",
   "version": "3.11.7"
  }
 },
 "nbformat": 4,
 "nbformat_minor": 2
}
